{
 "cells": [
  {
   "cell_type": "markdown",
   "metadata": {},
   "source": [
    "#### Combinatorial Optimization \n",
    "\n",
    "1. Edit Distance\n",
    "2. Huffman Codes\n",
    "\n",
    "##### General Set-Up\n",
    "- Write text of at most 6 pages containing a discussion of the problem, propsed algo. and proof of correctness.\n",
    "- Include references!!\n",
    "- Write complete computer code, each line commented indicating meaning and flow of the algorithm\n",
    "- Check correctness\n",
    "- Report output of the algorithm on the data sets provided\n",
    "\n",
    "Deliverable:\n",
    "Single PDF file with discusison of problem and proposed algorithm. Proof of correctness, complexity as a function of input size, brief discussion of the paradigm (greedy, dynamic, divide and conquer). Code, References, Output.\n",
    "\n",
    "\n",
    "#### 1. Edit Distance\n",
    "\n",
    "1. Discussion of the problem\n",
    "Given two strings of text, measure the distance between them using the following operations:\n",
    "\n",
    "- D: Deletion\n",
    "- I: Insertion\n",
    "- S: Substitution\n",
    "\n",
    "Edit distance $d(X,Y)$ is the minimum number of operations needed to perform on X to produce Y.\n",
    "\n",
    "2. Proposed algorithm in pseudocode\n",
    "3. Proof of correctness\n",
    "4. Complexity\n",
    "5. Implementation of the code\n",
    "6. Output\n",
    "\n",
    "\n",
    "Use dynmaic programming -> Solve smaller subproblems."
   ]
  },
  {
   "cell_type": "code",
   "execution_count": 8,
   "metadata": {},
   "outputs": [],
   "source": [
    "def levenshteinDistance(s1, s2):\n",
    "    if len(s1) > len(s2):\n",
    "        s1, s2 = s2, s1\n",
    "\n",
    "    distances = range(len(s1) + 1)\n",
    "    for i2, c2 in enumerate(s2):\n",
    "        distances_ = [i2+1]\n",
    "        for i1, c1 in enumerate(s1):\n",
    "            if c1 == c2:\n",
    "                distances_.append(distances[i1])\n",
    "            else:\n",
    "                distances_.append(1 + min((distances[i1], distances[i1 + 1], distances_[-1])))\n",
    "        distances = distances_\n",
    "    return distances[-1]"
   ]
  },
  {
   "cell_type": "code",
   "execution_count": 9,
   "metadata": {},
   "outputs": [
    {
     "data": {
      "text/plain": [
       "10"
      ]
     },
     "execution_count": 9,
     "metadata": {},
     "output_type": "execute_result"
    }
   ],
   "source": [
    "levenshteinDistance('ACTACTAGATTACTTACGGATCAGGTACTTTAGAGGCTTGCAACCA','TACTAGCTTACTTACCCATCAGGTTTTAGAGATGGCAACCA')"
   ]
  },
  {
   "cell_type": "code",
   "execution_count": 87,
   "metadata": {},
   "outputs": [],
   "source": [
    "# Defining a function for getting the alphabet of the current text. \n",
    "# The alphabet defines the frequency of every letter in the current text.\n",
    "def get_alphabet(text):\n",
    "    \n",
    "    # Initialize empty array in which letters and letter counts can be stored as key : value pairs\n",
    "    alphabet = {}\n",
    "    \n",
    "    # For every unique letter in the text (including signs and spaces), add a letter : count(letter) pair to the dict.\n",
    "    for letter in set(text):\n",
    "        alphabet.update({letter: text.count(letter)})\n",
    "    \n",
    "    # Return the filled dictionary\n",
    "    return alphabet\n",
    "\n",
    "def assign_code(nodes, label, result, prefix = ''):    \n",
    "    childs = nodes[label]     \n",
    "    tree = {}\n",
    "    if len(childs) == 2:\n",
    "        tree['0'] = assign_code(nodes, childs[0], result, prefix+'0')\n",
    "        tree['1'] = assign_code(nodes, childs[1], result, prefix+'1')     \n",
    "        return tree\n",
    "    else:\n",
    "        result[label] = prefix\n",
    "        return label\n",
    "\n",
    "def Huffman_code(_vals):    \n",
    "    vals = _vals.copy()\n",
    "    nodes = {}\n",
    "    for n in vals.keys(): # leafs initialization\n",
    "        nodes[n] = []\n",
    "\n",
    "    while len(vals) > 1: # binary tree creation\n",
    "        s_vals = sorted(vals.items(), key=lambda x:x[1]) \n",
    "        a1 = s_vals[0][0]\n",
    "        a2 = s_vals[1][0]\n",
    "        vals[a1+a2] = vals.pop(a1) + vals.pop(a2)\n",
    "        nodes[a1+a2] = [a1, a2]        \n",
    "    code = {}\n",
    "    root = a1+a2\n",
    "    tree = {}\n",
    "    tree = assign_code(nodes, root, code)   # assignment of the code for the given binary tree      \n",
    "    return code, tree\n"
   ]
  },
  {
   "cell_type": "code",
   "execution_count": 110,
   "metadata": {},
   "outputs": [
    {
     "data": {
      "text/plain": [
       "{'n': '0000',\n",
       " 'Y': '00010000',\n",
       " 'T': '00010001',\n",
       " 'N': '000100100',\n",
       " 'U': '000100101',\n",
       " 'D': '000100110',\n",
       " 'H': '000100111',\n",
       " '!': '000101',\n",
       " 'y': '00011',\n",
       " 'i': '0010',\n",
       " 's': '0011',\n",
       " 'v': '010000',\n",
       " 'f': '010001',\n",
       " 'I': '0100100',\n",
       " 'O': '0100101',\n",
       " 'w': '010011',\n",
       " 't': '0101',\n",
       " 'd': '01100',\n",
       " ',': '01101',\n",
       " 'o': '0111',\n",
       " 'l': '1000',\n",
       " 'a': '1001',\n",
       " 'x': '101000000',\n",
       " 'B': '101000001',\n",
       " 'k': '10100001',\n",
       " 'A': '1010001',\n",
       " 'u': '101001',\n",
       " 'r': '10101',\n",
       " 'h': '10110',\n",
       " 'b': '101110',\n",
       " 'c': '1011110',\n",
       " '.': '1011111',\n",
       " 'S': '110000000',\n",
       " 'M': '110000001',\n",
       " 'g': '11000001',\n",
       " 'p': '1100001',\n",
       " '\\n': '1100010',\n",
       " 'W': '110001100',\n",
       " '?': '110001101',\n",
       " '’': '110001110',\n",
       " 'R': '110001111',\n",
       " 'm': '11001',\n",
       " 'e': '1101',\n",
       " ' ': '111'}"
      ]
     },
     "execution_count": 110,
     "metadata": {},
     "output_type": "execute_result"
    }
   ],
   "source": [
    "code"
   ]
  },
  {
   "cell_type": "code",
   "execution_count": 119,
   "metadata": {},
   "outputs": [
    {
     "data": {
      "text/plain": [
       "{'0': {'0': {'0': {'0': 'n',\n",
       "    '1': {'0': {'0': {'0': {'0': 'Y', '1': 'T'},\n",
       "       '1': {'0': {'0': 'N', '1': 'U'}, '1': {'0': 'D', '1': 'H'}}},\n",
       "      '1': '!'},\n",
       "     '1': 'y'}},\n",
       "   '1': {'0': 'i', '1': 's'}},\n",
       "  '1': {'0': {'0': {'0': {'0': 'v', '1': 'f'},\n",
       "     '1': {'0': {'0': 'I', '1': 'O'}, '1': 'w'}},\n",
       "    '1': 't'},\n",
       "   '1': {'0': {'0': 'd', '1': ','}, '1': 'o'}}},\n",
       " '1': {'0': {'0': {'0': 'l', '1': 'a'},\n",
       "   '1': {'0': {'0': {'0': {'0': {'0': {'0': 'x', '1': 'B'}, '1': 'k'},\n",
       "       '1': 'A'},\n",
       "      '1': 'u'},\n",
       "     '1': 'r'},\n",
       "    '1': {'0': 'h', '1': {'0': 'b', '1': {'0': 'c', '1': '.'}}}}},\n",
       "  '1': {'0': {'0': {'0': {'0': {'0': {'0': {'0': 'S', '1': 'M'}, '1': 'g'},\n",
       "       '1': 'p'},\n",
       "      '1': {'0': '\\n',\n",
       "       '1': {'0': {'0': 'W', '1': '?'}, '1': {'0': '’', '1': 'R'}}}},\n",
       "     '1': 'm'},\n",
       "    '1': 'e'},\n",
       "   '1': ' '}}}"
      ]
     },
     "execution_count": 119,
     "metadata": {},
     "output_type": "execute_result"
    }
   ],
   "source": [
    "tree"
   ]
  },
  {
   "cell_type": "code",
   "execution_count": 103,
   "metadata": {},
   "outputs": [],
   "source": [
    "text = \"\"\"O all you host of heaven! O earth! What else? And shall I couple hell? Oh, fie! Hold,\n",
    "hold, my heart, And you, my sinews, grow not instant old, But bear me stiffly up. Remember\n",
    "thee! Ay, thou poor ghost, whiles memory holds a seat In this distracted globe. Remember thee!\n",
    "Yea, from the table of my memory I’ll wipe away all trivial fond records, All saws of books, all\n",
    "forms, all pressures past That youth and observation copied there, And thy commandment all\n",
    "alone shall live Within the book and volume of my brain, Unmixed with baser matter. Yes, by\n",
    "heaven! O most pernicious woman! O villain, villain, smiling, damned villain! My tables! Meet it\n",
    "is I set it down That one may smile, and smile, and be a villain. At least I’m sure it may be so in\n",
    "Denmark. So, uncle, there you are. Now to my word.\"\"\"\n",
    "\n",
    "text2 = \"\"\"Habe nun, ach! Philosophie, Juristerei und Medizin, Und leider auch Theologie\n",
    "Durchaus studiert, mit heissem Bem¨uhn. Da steh ich nun, ich armer Tor! Und bin so klug als wie\n",
    "zuvor; Heisse Magister, heisse Doktor gar Und ziehe schon an die zehen Jahr Herauf, herab und\n",
    "quer und krumm Meine Sch¨uler an der Nase herum Und sehe, dass wir nichts wissen k¨onnen! Das\n",
    "will mir schier das Herz verbrennen. Zwar bin ich gescheiter als all die Laffen, Doktoren, Magister,\n",
    "Schreiber und Pfaffen; Mich plagen keine Skrupel noch Zweifel, F¨urchte mich weder vor H¨olle noch\n",
    "Teufel Daf¨ur ist mir auch alle Freud entrissen, Bilde mir nicht ein, was Rechts zu wissen, Bilde mir\n",
    "nicht ein, ich k¨onnte was lehren, Die Menschen zu bessern und zu bekehren. Auch hab ich weder\n",
    "Gut noch Geld, Noch Ehr und Herrlichkeit der Welt; Es m¨ochte kein Hund so l¨anger leben! Drum\n",
    "hab ich mich der Magie ergeben, Ob mir durch Geistes Kraft und Mund Nicht manch Geheimnis\n",
    "w¨urde kund; Dass ich nicht mehr mit saurem Schweiss Zu sagen brauche, was ich nicht weiss; Dass\n",
    "ich erkenne, was die Welt Im Innersten zusammenh¨alt, Schau alle Wirkenskraft und Samen, Und\n",
    "tu nicht mehr in Worten kramen.\"\"\""
   ]
  },
  {
   "cell_type": "code",
   "execution_count": 107,
   "metadata": {},
   "outputs": [
    {
     "data": {
      "text/plain": [
       "3608"
      ]
     },
     "execution_count": 107,
     "metadata": {},
     "output_type": "execute_result"
    }
   ],
   "source": [
    "# Test element:\n",
    "alphabet = get_alphabet(text)\n",
    "\n",
    "code, tree = Huffman_code(alphabet)\n",
    "\n",
    "encoded = ''.join([code[t] for t in text])\n",
    "#print('Encoded text:',encoded)\n",
    "len(encoded)"
   ]
  },
  {
   "cell_type": "code",
   "execution_count": 102,
   "metadata": {},
   "outputs": [
    {
     "name": "stdout",
     "output_type": "stream",
     "text": [
      "Decoded text: O all you host of heaven! O earth! What else? And shall I couple hell? Oh, fie! Hold,\n",
      "hold, my heart, And you, my sinews, grow not instant old, But bear me stiffly up. Remember\n",
      "thee! Ay, thou poor ghost, whiles memory holds a seat In this distracted globe. Remember thee!\n",
      "Yea, from the table of my memory I’ll wipe away all trivial fond records, All saws of books, all\n",
      "forms, all pressures past That youth and observation copied there, And thy commandment all\n",
      "alone shall live Within the book and volume of my brain, Unmixed with baser matter. Yes, by\n",
      "heaven! O most pernicious woman! O villain, villain, smiling, damned villain! My tables! Meet it\n",
      "is I set it down That one may smile, and smile, and be a villain. At least I’m sure it may be so in\n",
      "Denmark. So, uncle, there you are. Now to my word.\n"
     ]
    }
   ],
   "source": [
    "decoded = []\n",
    "i = 0\n",
    "while i < len(encoded): # decoding using the binary graph\n",
    "    ch = encoded[i]  \n",
    "    act = tree[ch]\n",
    "    while not isinstance(act, str):\n",
    "        i += 1\n",
    "        ch = encoded[i]  \n",
    "        act = act[ch]        \n",
    "    decoded.append(act)          \n",
    "    i += 1\n",
    "\n",
    "print('Decoded text:',''.join(decoded))"
   ]
  },
  {
   "cell_type": "code",
   "execution_count": 120,
   "metadata": {},
   "outputs": [
    {
     "data": {
      "text/plain": [
       "127"
      ]
     },
     "execution_count": 120,
     "metadata": {},
     "output_type": "execute_result"
    }
   ],
   "source": [
    "import graphviz\n",
    "\n",
    "def draw_tree(tree, prefix = ''):    \n",
    "    if isinstance(tree, str):            \n",
    "        descr = 'N%s [label=\"%s:%s\", fontcolor=blue, fontsize=16, width=2, shape=box];\\n'%(prefix, tree, prefix)\n",
    "    else: # Node description\n",
    "        descr = 'N%s [label=\"%s\"];\\n'%(prefix, prefix)\n",
    "        for child in tree.keys():\n",
    "            descr += draw_tree(tree[child], prefix = prefix+child)\n",
    "            descr += 'N%s -> N%s;\\n'%(prefix,prefix+child)\n",
    "    return descr\n",
    "\n",
    "\n",
    "import subprocess\n",
    "with open('graph.dot','w') as f:\n",
    "    f.write('digraph G {\\n')\n",
    "    f.write(draw_tree(tree))\n",
    "    f.write('}') \n",
    "subprocess.call('dot -Tpng graph.dot -o graph.png', shell=True)\n",
    "\n"
   ]
  },
  {
   "cell_type": "code",
   "execution_count": null,
   "metadata": {},
   "outputs": [],
   "source": []
  }
 ],
 "metadata": {
  "kernelspec": {
   "display_name": "Python 3",
   "language": "python",
   "name": "python3"
  },
  "language_info": {
   "codemirror_mode": {
    "name": "ipython",
    "version": 3
   },
   "file_extension": ".py",
   "mimetype": "text/x-python",
   "name": "python",
   "nbconvert_exporter": "python",
   "pygments_lexer": "ipython3",
   "version": "3.6.5"
  },
  "varInspector": {
   "cols": {
    "lenName": 16,
    "lenType": 16,
    "lenVar": 40
   },
   "kernels_config": {
    "python": {
     "delete_cmd_postfix": "",
     "delete_cmd_prefix": "del ",
     "library": "var_list.py",
     "varRefreshCmd": "print(var_dic_list())"
    },
    "r": {
     "delete_cmd_postfix": ") ",
     "delete_cmd_prefix": "rm(",
     "library": "var_list.r",
     "varRefreshCmd": "cat(var_dic_list()) "
    }
   },
   "types_to_exclude": [
    "module",
    "function",
    "builtin_function_or_method",
    "instance",
    "_Feature"
   ],
   "window_display": false
  }
 },
 "nbformat": 4,
 "nbformat_minor": 2
}
